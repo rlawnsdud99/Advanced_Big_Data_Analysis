{
 "cells": [
  {
   "cell_type": "code",
   "execution_count": 1,
   "metadata": {
    "papermill": {
     "duration": 0.720369,
     "end_time": "2021-11-03T10:30:33.20771",
     "exception": false,
     "start_time": "2021-11-03T10:30:32.487341",
     "status": "completed"
    },
    "tags": []
   },
   "outputs": [],
   "source": [
    "import pandas as pd\n",
    "import numpy as np\n",
    "import sklearn\n",
    "import os\n",
    "from os.path import join"
   ]
  },
  {
   "cell_type": "code",
   "execution_count": 3,
   "metadata": {
    "papermill": {
     "duration": 0.072264,
     "end_time": "2021-11-03T10:30:34.91722",
     "exception": false,
     "start_time": "2021-11-03T10:30:34.844956",
     "status": "completed"
    },
    "tags": []
   },
   "outputs": [
    {
     "name": "stdout",
     "output_type": "stream",
     "text": [
      "<class 'pandas.core.frame.DataFrame'>\n",
      "RangeIndex: 630 entries, 0 to 629\n",
      "Data columns (total 3 columns):\n",
      " #   Column     Non-Null Count  Dtype \n",
      "---  ------     --------------  ----- \n",
      " 0   ID         630 non-null    int64 \n",
      " 1   file_name  630 non-null    object\n",
      " 2   emotion    630 non-null    object\n",
      "dtypes: int64(1), object(2)\n",
      "memory usage: 14.9+ KB\n",
      "<class 'pandas.core.frame.DataFrame'>\n",
      "RangeIndex: 210 entries, 0 to 209\n",
      "Data columns (total 2 columns):\n",
      " #   Column     Non-Null Count  Dtype \n",
      "---  ------     --------------  ----- \n",
      " 0   ID         210 non-null    int64 \n",
      " 1   file_name  210 non-null    object\n",
      "dtypes: int64(1), object(1)\n",
      "memory usage: 3.4+ KB\n",
      "None None\n"
     ]
    }
   ],
   "source": [
    "#DATA Load\n",
    "\n",
    "pd_train = pd.read_csv(\"C:/Users/Kimjunyoung/Advanced_Big_Data_Analysis/audio_dataset/data/train.csv\")\n",
    "pd_test = pd.read_csv(\"C:/Users/Kimjunyoung/Advanced_Big_Data_Analysis/audio_dataset/data/test.csv\")\n",
    "\n",
    "print(pd_train.info(), pd_test.info())"
   ]
  },
  {
   "cell_type": "markdown",
   "metadata": {},
   "source": [
    "### Data Preprocessing"
   ]
  },
  {
   "cell_type": "code",
   "execution_count": 4,
   "metadata": {
    "papermill": {
     "duration": 1.289142,
     "end_time": "2021-11-03T10:30:36.273922",
     "exception": false,
     "start_time": "2021-11-03T10:30:34.98478",
     "status": "completed"
    },
    "tags": []
   },
   "outputs": [],
   "source": [
    "import librosa\n",
    "import glob, pickle\n",
    "import numpy as np\n",
    "from sklearn.model_selection import train_test_split\n",
    "from sklearn.metrics import accuracy_score\n",
    "import matplotlib.pyplot as plt\n",
    "import librosa, librosa.display \n",
    "\n",
    "def load_audiofiles(file_name, sample_rate=48000):\n",
    "    \n",
    "    result=np.array([])\n",
    "    \n",
    "    audio_signal, sample_rate = librosa.load(file_name, duration=3, offset=0.5, sr=sample_rate)\n",
    "\n",
    "    signal = np.zeros(int(sample_rate*3,))\n",
    "    signal[:len(audio_signal)] = audio_signal\n",
    "    \n",
    "    return signal\n",
    "    "
   ]
  },
  {
   "cell_type": "markdown",
   "metadata": {},
   "source": [
    "### wav -> windowing & sampling"
   ]
  },
  {
   "cell_type": "code",
   "execution_count": 9,
   "metadata": {
    "papermill": {
     "duration": 187.224482,
     "end_time": "2021-11-03T10:33:43.561967",
     "exception": false,
     "start_time": "2021-11-03T10:30:36.337485",
     "status": "completed"
    },
    "tags": []
   },
   "outputs": [
    {
     "name": "stderr",
     "output_type": "stream",
     "text": [
      "630it [00:05, 107.66it/s]\n",
      "100%|█████████████████████████████████████████████████████████████████████████████████████████████████| 210/210 [00:00<00:00, 1264.89it/s]\n"
     ]
    }
   ],
   "source": [
    "# DataFlair - Load the data and extract features for each sound file\n",
    "from tqdm import tqdm\n",
    "def load_data(data_info, isTrain=True):\n",
    "    \n",
    "    if isTrain:\n",
    "        train_data = [] # dictionary for audio feature\n",
    "        train_label = [] # labellist for training list\n",
    "        \n",
    "        file_list = data_info['file_name']\n",
    "        emotion_list = data_info['emotion']\n",
    "        for file_name, emotion in tqdm(zip(file_list, emotion_list)):\n",
    "            \n",
    "            hi=join('./audio_dataset/train_dataset',file_name)\n",
    "            train_data.append(load_audiofiles(hi))\n",
    "            train_label.append(emotion)\n",
    "            \n",
    "        return np.array(train_data), np.array(train_label)\n",
    "    \n",
    "    else:\n",
    "        test_data = []\n",
    "        file_list = data_info['file_name']\n",
    "    \n",
    "        for file_name in tqdm(file_list):\n",
    "\n",
    "            hi=join('./audio_dataset/test_dataset',file_name)\n",
    "            test_data.append(load_audiofiles(hi))\n",
    "            \n",
    "        return np.array(test_data)\n",
    "\n",
    "# DataFlair - Split the dataset\n",
    "train_data, train_label = load_data(pd_train)\n",
    "test_data = load_data(pd_test, isTrain=False)"
   ]
  },
  {
   "cell_type": "markdown",
   "metadata": {},
   "source": [
    "### Vectorization"
   ]
  },
  {
   "cell_type": "code",
   "execution_count": 10,
   "metadata": {},
   "outputs": [],
   "source": [
    "from sklearn.preprocessing import LabelEncoder\n",
    "le = LabelEncoder()\n",
    "le.fit(train_label)\n",
    "y_train = le.transform(train_label)"
   ]
  },
  {
   "cell_type": "markdown",
   "metadata": {},
   "source": [
    "### Audio_feature to Mel_spectrogram using Fourier transform & mel filter"
   ]
  },
  {
   "cell_type": "code",
   "execution_count": 11,
   "metadata": {
    "papermill": {
     "duration": 33.207891,
     "end_time": "2021-11-03T10:34:18.004065",
     "exception": false,
     "start_time": "2021-11-03T10:33:44.796174",
     "status": "completed"
    },
    "tags": []
   },
   "outputs": [
    {
     "name": "stdout",
     "output_type": "stream",
     "text": [
      "Calculate mel spectrograms for train set\n",
      " Processed 630/630 files\n",
      " Processed 210/210 files\n",
      "mel_train:(630, 128, 563), mel_test:(210, 128, 563)\n"
     ]
    }
   ],
   "source": [
    "def Calculate_Melspectrogram(audio, sample_rate):\n",
    "    mel_spec = librosa.feature.melspectrogram(y=audio,\n",
    "                                              sr=sample_rate,\n",
    "                                              n_fft=1024,\n",
    "                                              win_length = 512,\n",
    "                                              window='hamming',\n",
    "                                              hop_length = 256,\n",
    "                                              n_mels=128,\n",
    "                                              fmax=sample_rate/2\n",
    "                                             )\n",
    "    mel_spec_db = librosa.power_to_db(mel_spec, ref=np.max)\n",
    "    return mel_spec_db\n",
    "\n",
    "mel_train = []\n",
    "print(\"Calculate mel spectrograms for train set\")\n",
    "train_data = np.stack(np.array(train_data),0)\n",
    "test_data = np.stack(np.array(test_data),0)\n",
    "for i in range(train_data.shape[0]):\n",
    "    mel_spectrogram = Calculate_Melspectrogram(train_data[i,:], sample_rate=48000)\n",
    "    mel_train.append(mel_spectrogram)\n",
    "    print(\"\\r Processed {}/{} files\".format(i+1,train_data.shape[0]),end='')\n",
    "    \n",
    "print('')\n",
    "mel_train = np.stack(mel_train,axis=0)\n",
    "\n",
    "mel_test = []\n",
    "for i in range(test_data.shape[0]):\n",
    "    mel_spectrogram = Calculate_Melspectrogram(test_data[i,:], sample_rate=48000)\n",
    "    mel_test.append(mel_spectrogram)\n",
    "    print(\"\\r Processed {}/{} files\".format(i+1,test_data.shape[0]),end='')\n",
    "    \n",
    "print('')\n",
    "mel_test = np.stack(mel_test,axis=0)\n",
    "\n",
    "print(f'mel_train:{mel_train.shape}, mel_test:{mel_test.shape}')"
   ]
  },
  {
   "cell_type": "markdown",
   "metadata": {},
   "source": [
    "### Scale normaliztaion with mel_spectrogram"
   ]
  },
  {
   "cell_type": "code",
   "execution_count": 12,
   "metadata": {
    "papermill": {
     "duration": 2.045993,
     "end_time": "2021-11-03T10:34:21.367654",
     "exception": false,
     "start_time": "2021-11-03T10:34:19.321661",
     "status": "completed"
    },
    "tags": []
   },
   "outputs": [],
   "source": [
    "from sklearn.preprocessing import StandardScaler\n",
    "\n",
    "x_train = np.expand_dims(mel_train, 1) #DataNum, 1ch, H, W\n",
    "x_test = np.expand_dims(mel_test, 1)\n",
    "\n",
    "scaler = StandardScaler()\n",
    "\n",
    "b,c,h,w = x_train.shape\n",
    "x_train = np.reshape(x_train, newshape=(b,-1))\n",
    "x_train = scaler.fit_transform(x_train)\n",
    "x_train = np.reshape(x_train, newshape=(b,c,h,w))\n",
    "\n",
    "b,c,h,w = x_test.shape\n",
    "x_test = np.reshape(x_test, newshape=(b,-1))\n",
    "x_test = scaler.transform(x_test)\n",
    "x_test = np.reshape(x_test, newshape=(b,c,h,w))"
   ]
  },
  {
   "cell_type": "markdown",
   "metadata": {},
   "source": [
    "### Model Pipeline\n",
    "![Alt text](model_pipeline.png)\n",
    "### Details\n",
    "![Alt text](details.png)"
   ]
  },
  {
   "cell_type": "code",
   "execution_count": 28,
   "metadata": {
    "papermill": {
     "duration": 3.314569,
     "end_time": "2021-11-03T10:34:25.108277",
     "exception": false,
     "start_time": "2021-11-03T10:34:21.793708",
     "status": "completed"
    },
    "tags": []
   },
   "outputs": [
    {
     "name": "stdout",
     "output_type": "stream",
     "text": [
      "cuda\n",
      "Number of trainable params:  138592\n"
     ]
    }
   ],
   "source": [
    "import torch\n",
    "import torch.nn as nn\n",
    "import torch.nn.functional as F\n",
    "import math\n",
    "seed = 1\n",
    "np.random.seed(seed)\n",
    "torch.manual_seed(seed)\n",
    "torch.cuda.manual_seed_all(seed)\n",
    "device = torch.device(\"cuda\" if torch.cuda.is_available() else \"cpu\")\n",
    "print(device)\n",
    "\n",
    "class ParallelModel(nn.Module):\n",
    "    def __init__(self,num_emotions):\n",
    "        super().__init__()\n",
    "\n",
    "            # 1. conv block\n",
    "        self.relu = nn.ReLU()\n",
    "        self.conv1= nn.Conv2d(in_channels=1,\n",
    "                   out_channels=16,\n",
    "                   kernel_size=3,\n",
    "                   stride=1,\n",
    "                   padding=1\n",
    "                  )\n",
    "        self.bn1 = nn.BatchNorm2d(16)\n",
    "\n",
    "        self.mp1 = nn.MaxPool2d(kernel_size=2, stride=2)\n",
    "        self.do = nn.Dropout2d(p=0.3)\n",
    "        # 2. conv block\n",
    "        self.conv2= nn.Conv2d(in_channels=16,\n",
    "                   out_channels=32,\n",
    "                   kernel_size=3,\n",
    "                   stride=1,\n",
    "                   padding=1\n",
    "                  )\n",
    "        self.bn2 = nn.BatchNorm2d(32)\n",
    "        self.mp2 = nn.MaxPool2d(kernel_size=4, stride=4)\n",
    "\n",
    "        # 3. conv block\n",
    "        self.conv3 = nn.Conv2d(in_channels=32,\n",
    "                   out_channels=64,\n",
    "                   kernel_size=3,\n",
    "                   stride=1,\n",
    "                   padding=1\n",
    "                  )\n",
    "        self.bn3 = nn.BatchNorm2d(64)\n",
    "\n",
    "        # 4. conv block\n",
    "        self.conv4= nn.Conv2d(in_channels=64,\n",
    "                   out_channels=128,\n",
    "                   kernel_size=3,\n",
    "                   stride=1,\n",
    "                   padding=1\n",
    "                  )\n",
    "        self.bn4= nn.BatchNorm2d(128)\n",
    "\n",
    "        # Linear softmax layer\n",
    "        self.out_linear = KANLinear(in_features=512,out_features=num_emotions)\n",
    "        self.out_softmax = nn.Softmax(dim=1)\n",
    "        \n",
    "    def forward(self,x):\n",
    "\n",
    "        # transformer embedding\n",
    "        out = self.relu(self.bn1(self.conv1(x)))\n",
    "\n",
    "        out = self.do(self.mp1(out))\n",
    "        out = self.relu(self.bn2(self.conv2(out)))\n",
    "        out = self.do(self.mp2(out))\n",
    "        out = self.relu(self.bn3(self.conv3(out)))\n",
    "        out = self.do(self.mp2(out))\n",
    "        out = self.relu(self.bn4(self.conv4(out)))\n",
    "        out = self.do(self.mp2(out))\n",
    "\n",
    "\n",
    "        conv_embedding = torch.flatten(out, start_dim=1)\n",
    "\n",
    "        output_logits = self.out_linear(conv_embedding)\n",
    "        output_softmax = self.out_softmax(output_logits)\n",
    "        return output_logits, output_softmax  \n",
    "\n",
    "class KANLinear(torch.nn.Module):\n",
    "    def __init__(\n",
    "        self,\n",
    "        in_features,\n",
    "        out_features,\n",
    "        grid_size=5,\n",
    "        spline_order=3,\n",
    "        scale_noise=0.1,\n",
    "        scale_base=1.0,\n",
    "        scale_spline=1.0,\n",
    "        enable_standalone_scale_spline=True,\n",
    "        base_activation=torch.nn.SiLU,\n",
    "        grid_eps=0.02,\n",
    "        grid_range=[-1, 1],\n",
    "    ):\n",
    "        super(KANLinear, self).__init__()\n",
    "        self.in_features = in_features\n",
    "        self.out_features = out_features\n",
    "        self.grid_size = grid_size\n",
    "        self.spline_order = spline_order\n",
    "\n",
    "        h = (grid_range[1] - grid_range[0]) / grid_size\n",
    "        grid = (\n",
    "            (\n",
    "                torch.arange(-spline_order, grid_size + spline_order + 1) * h\n",
    "                + grid_range[0]\n",
    "            )\n",
    "            .expand(in_features, -1)\n",
    "            .contiguous()\n",
    "        )\n",
    "        self.register_buffer(\"grid\", grid)\n",
    "\n",
    "        self.base_weight = torch.nn.Parameter(torch.Tensor(out_features, in_features))\n",
    "        self.spline_weight = torch.nn.Parameter(\n",
    "            torch.Tensor(out_features, in_features, grid_size + spline_order)\n",
    "        )\n",
    "        if enable_standalone_scale_spline:\n",
    "            self.spline_scaler = torch.nn.Parameter(\n",
    "                torch.Tensor(out_features, in_features)\n",
    "            )\n",
    "\n",
    "        self.scale_noise = scale_noise\n",
    "        self.scale_base = scale_base\n",
    "        self.scale_spline = scale_spline\n",
    "        self.enable_standalone_scale_spline = enable_standalone_scale_spline\n",
    "        self.base_activation = base_activation()\n",
    "        self.grid_eps = grid_eps\n",
    "\n",
    "        self.reset_parameters()\n",
    "\n",
    "    def reset_parameters(self):\n",
    "        torch.nn.init.kaiming_uniform_(self.base_weight, a=math.sqrt(5) * self.scale_base)\n",
    "        with torch.no_grad():\n",
    "            noise = (\n",
    "                (\n",
    "                    torch.rand(self.grid_size + 1, self.in_features, self.out_features)\n",
    "                    - 1 / 2\n",
    "                )\n",
    "                * self.scale_noise\n",
    "                / self.grid_size\n",
    "            )\n",
    "            self.spline_weight.data.copy_(\n",
    "                (self.scale_spline if not self.enable_standalone_scale_spline else 1.0)\n",
    "                * self.curve2coeff(\n",
    "                    self.grid.T[self.spline_order : -self.spline_order],\n",
    "                    noise,\n",
    "                )\n",
    "            )\n",
    "            if self.enable_standalone_scale_spline:\n",
    "                # torch.nn.init.constant_(self.spline_scaler, self.scale_spline)\n",
    "                torch.nn.init.kaiming_uniform_(self.spline_scaler, a=math.sqrt(5) * self.scale_spline)\n",
    "\n",
    "    def b_splines(self, x: torch.Tensor):\n",
    "        \"\"\"\n",
    "        Compute the B-spline bases for the given input tensor.\n",
    "\n",
    "        Args:\n",
    "            x (torch.Tensor): Input tensor of shape (batch_size, in_features).\n",
    "\n",
    "        Returns:\n",
    "            torch.Tensor: B-spline bases tensor of shape (batch_size, in_features, grid_size + spline_order).\n",
    "        \"\"\"\n",
    "        assert x.dim() == 2 and x.size(1) == self.in_features\n",
    "\n",
    "        grid: torch.Tensor = (\n",
    "            self.grid\n",
    "        )  # (in_features, grid_size + 2 * spline_order + 1)\n",
    "        x = x.unsqueeze(-1)\n",
    "        bases = ((x >= grid[:, :-1]) & (x < grid[:, 1:])).to(x.dtype)\n",
    "        for k in range(1, self.spline_order + 1):\n",
    "            bases = (\n",
    "                (x - grid[:, : -(k + 1)])\n",
    "                / (grid[:, k:-1] - grid[:, : -(k + 1)])\n",
    "                * bases[:, :, :-1]\n",
    "            ) + (\n",
    "                (grid[:, k + 1 :] - x)\n",
    "                / (grid[:, k + 1 :] - grid[:, 1:(-k)])\n",
    "                * bases[:, :, 1:]\n",
    "            )\n",
    "\n",
    "        assert bases.size() == (\n",
    "            x.size(0),\n",
    "            self.in_features,\n",
    "            self.grid_size + self.spline_order,\n",
    "        )\n",
    "        return bases.contiguous()\n",
    "\n",
    "    def curve2coeff(self, x: torch.Tensor, y: torch.Tensor):\n",
    "        \"\"\"\n",
    "        Compute the coefficients of the curve that interpolates the given points.\n",
    "\n",
    "        Args:\n",
    "            x (torch.Tensor): Input tensor of shape (batch_size, in_features).\n",
    "            y (torch.Tensor): Output tensor of shape (batch_size, in_features, out_features).\n",
    "\n",
    "        Returns:\n",
    "            torch.Tensor: Coefficients tensor of shape (out_features, in_features, grid_size + spline_order).\n",
    "        \"\"\"\n",
    "        assert x.dim() == 2 and x.size(1) == self.in_features\n",
    "        assert y.size() == (x.size(0), self.in_features, self.out_features)\n",
    "\n",
    "        A = self.b_splines(x).transpose(\n",
    "            0, 1\n",
    "        )  # (in_features, batch_size, grid_size + spline_order)\n",
    "        B = y.transpose(0, 1)  # (in_features, batch_size, out_features)\n",
    "        solution = torch.linalg.lstsq(\n",
    "            A, B\n",
    "        ).solution  # (in_features, grid_size + spline_order, out_features)\n",
    "        result = solution.permute(\n",
    "            2, 0, 1\n",
    "        )  # (out_features, in_features, grid_size + spline_order)\n",
    "\n",
    "        assert result.size() == (\n",
    "            self.out_features,\n",
    "            self.in_features,\n",
    "            self.grid_size + self.spline_order,\n",
    "        )\n",
    "        return result.contiguous()\n",
    "\n",
    "    @property\n",
    "    def scaled_spline_weight(self):\n",
    "        return self.spline_weight * (\n",
    "            self.spline_scaler.unsqueeze(-1)\n",
    "            if self.enable_standalone_scale_spline\n",
    "            else 1.0\n",
    "        )\n",
    "\n",
    "    def forward(self, x: torch.Tensor):\n",
    "        assert x.size(-1) == self.in_features\n",
    "        original_shape = x.shape\n",
    "        x = x.view(-1, self.in_features)\n",
    "\n",
    "        base_output = F.linear(self.base_activation(x), self.base_weight)\n",
    "        spline_output = F.linear(\n",
    "            self.b_splines(x).view(x.size(0), -1),\n",
    "            self.scaled_spline_weight.view(self.out_features, -1),\n",
    "        )\n",
    "        output = base_output + spline_output\n",
    "        \n",
    "        output = output.view(*original_shape[:-1], self.out_features)\n",
    "        return output\n",
    "\n",
    "    @torch.no_grad()\n",
    "    def update_grid(self, x: torch.Tensor, margin=0.01):\n",
    "        assert x.dim() == 2 and x.size(1) == self.in_features\n",
    "        batch = x.size(0)\n",
    "\n",
    "        splines = self.b_splines(x)  # (batch, in, coeff)\n",
    "        splines = splines.permute(1, 0, 2)  # (in, batch, coeff)\n",
    "        orig_coeff = self.scaled_spline_weight  # (out, in, coeff)\n",
    "        orig_coeff = orig_coeff.permute(1, 2, 0)  # (in, coeff, out)\n",
    "        unreduced_spline_output = torch.bmm(splines, orig_coeff)  # (in, batch, out)\n",
    "        unreduced_spline_output = unreduced_spline_output.permute(\n",
    "            1, 0, 2\n",
    "        )  # (batch, in, out)\n",
    "\n",
    "        # sort each channel individually to collect data distribution\n",
    "        x_sorted = torch.sort(x, dim=0)[0]\n",
    "        grid_adaptive = x_sorted[\n",
    "            torch.linspace(\n",
    "                0, batch - 1, self.grid_size + 1, dtype=torch.int64, device=x.device\n",
    "            )\n",
    "        ]\n",
    "\n",
    "        uniform_step = (x_sorted[-1] - x_sorted[0] + 2 * margin) / self.grid_size\n",
    "        grid_uniform = (\n",
    "            torch.arange(\n",
    "                self.grid_size + 1, dtype=torch.float32, device=x.device\n",
    "            ).unsqueeze(1)\n",
    "            * uniform_step\n",
    "            + x_sorted[0]\n",
    "            - margin\n",
    "        )\n",
    "\n",
    "        grid = self.grid_eps * grid_uniform + (1 - self.grid_eps) * grid_adaptive\n",
    "        grid = torch.concatenate(\n",
    "            [\n",
    "                grid[:1]\n",
    "                - uniform_step\n",
    "                * torch.arange(self.spline_order, 0, -1, device=x.device).unsqueeze(1),\n",
    "                grid,\n",
    "                grid[-1:]\n",
    "                + uniform_step\n",
    "                * torch.arange(1, self.spline_order + 1, device=x.device).unsqueeze(1),\n",
    "            ],\n",
    "            dim=0,\n",
    "        )\n",
    "\n",
    "        self.grid.copy_(grid.T)\n",
    "        self.spline_weight.data.copy_(self.curve2coeff(x, unreduced_spline_output))\n",
    "\n",
    "    def regularization_loss(self, regularize_activation=1.0, regularize_entropy=1.0):\n",
    "        \"\"\"\n",
    "        Compute the regularization loss.\n",
    "\n",
    "        This is a dumb simulation of the original L1 regularization as stated in the\n",
    "        paper, since the original one requires computing absolutes and entropy from the\n",
    "        expanded (batch, in_features, out_features) intermediate tensor, which is hidden\n",
    "        behind the F.linear function if we want an memory efficient implementation.\n",
    "\n",
    "        The L1 regularization is now computed as mean absolute value of the spline\n",
    "        weights. The authors implementation also includes this term in addition to the\n",
    "        sample-based regularization.\n",
    "        \"\"\"\n",
    "        l1_fake = self.spline_weight.abs().mean(-1)\n",
    "        regularization_loss_activation = l1_fake.sum()\n",
    "        p = l1_fake / regularization_loss_activation\n",
    "        regularization_loss_entropy = -torch.sum(p * p.log())\n",
    "        return (\n",
    "            regularize_activation * regularization_loss_activation\n",
    "            + regularize_entropy * regularization_loss_entropy\n",
    "        )\n",
    "model = ParallelModel(num_emotions=8).to(device)\n",
    "print('Number of trainable params: ',sum(p.numel() for p in model.parameters()) )"
   ]
  },
  {
   "cell_type": "markdown",
   "metadata": {},
   "source": [
    "### Hyperparameter optimization"
   ]
  },
  {
   "cell_type": "code",
   "execution_count": 29,
   "metadata": {
    "papermill": {
     "duration": 261.931473,
     "end_time": "2021-11-03T10:38:59.695507",
     "exception": false,
     "start_time": "2021-11-03T10:34:37.764034",
     "status": "completed"
    },
    "tags": []
   },
   "outputs": [],
   "source": [
    "EPOCHS=200\n",
    "DATASET_SIZE = x_train.shape[0]\n",
    "BATCH_SIZE = 32\n",
    "\n",
    "## Baseline : optimizer - SGD, learning rate = 0.01, momentum=0.9\n",
    "OPTIMIZER = torch.optim.SGD(model.parameters(),lr=0.01, momentum=0.9)"
   ]
  },
  {
   "cell_type": "code",
   "execution_count": 30,
   "metadata": {},
   "outputs": [],
   "source": [
    "def loss_fnc(predictions, targets):\n",
    "    return nn.CrossEntropyLoss()(input=predictions,target=targets)"
   ]
  },
  {
   "cell_type": "code",
   "execution_count": 31,
   "metadata": {
    "papermill": {
     "duration": 261.931473,
     "end_time": "2021-11-03T10:38:59.695507",
     "exception": false,
     "start_time": "2021-11-03T10:34:37.764034",
     "status": "completed"
    },
    "tags": []
   },
   "outputs": [
    {
     "data": {
      "image/png": "[encoded data removed]",
      "text/plain": [
       "<Figure size 1200x800 with 2 Axes>"
      ]
     },
     "metadata": {},
     "output_type": "display_data"
    },
    {
     "name": "stdout",
     "output_type": "stream",
     "text": [
      "train_loss\n",
      "\ttrain_loss       \t (min:    0.056, max:    2.528, cur:    0.060)\n"
     ]
    }
   ],
   "source": [
    "# !pip install livelossplot\n",
    "from livelossplot import PlotLosses\n",
    "liveloss = PlotLosses()\n",
    "\n",
    "logs = {}\n",
    "\n",
    "model.train()\n",
    "\n",
    "for epoch in range(EPOCHS):\n",
    "    # shuffle data\n",
    "    ind = np.random.permutation(DATASET_SIZE)\n",
    "\n",
    "    x_train = x_train[ind,:,:,:]\n",
    "    y_train = y_train[ind]\n",
    "    \n",
    "    epoch_loss = 0\n",
    "    \n",
    "    iters = int(DATASET_SIZE / BATCH_SIZE)\n",
    "     \n",
    "    for i in range(iters):\n",
    "        ### indexing\n",
    "        batch_start = i * BATCH_SIZE\n",
    "        batch_end = min(batch_start + BATCH_SIZE, DATASET_SIZE)\n",
    "        actual_batch_size = batch_end-batch_start\n",
    "        \n",
    "        x = x_train[batch_start:batch_end,:,:,:]\n",
    "        y = y_train[batch_start:batch_end]\n",
    "        \n",
    " \n",
    "        x_tensor = torch.tensor(x,device=device).float()\n",
    "        y_tensor = torch.tensor(y, dtype=torch.long, device=device)\n",
    "        \n",
    "        # forward pass\n",
    "        output_logits, output_softmax = model(x_tensor)\n",
    "\n",
    "        # compute loss\n",
    "        loss = loss_fnc(output_logits, y_tensor)\n",
    "        \n",
    "        # compute gradients\n",
    "        OPTIMIZER.zero_grad()\n",
    "        loss.backward()\n",
    "        # update parameters\n",
    "        OPTIMIZER.step()\n",
    "\n",
    "        epoch_loss += loss.item()*actual_batch_size/DATASET_SIZE\n",
    "\n",
    "    logs['train_loss'] = epoch_loss\n",
    "    if epoch % 10 == 0:\n",
    "        print('Epoch: ', epoch, 'loss: ', epoch_loss)\n",
    "        \n",
    "    liveloss.update(logs)\n",
    "    liveloss.draw()"
   ]
  },
  {
   "cell_type": "markdown",
   "metadata": {},
   "source": [
    "### Evaluation"
   ]
  },
  {
   "cell_type": "code",
   "execution_count": 32,
   "metadata": {
    "papermill": {
     "duration": 0.986686,
     "end_time": "2021-11-03T10:39:01.109175",
     "exception": false,
     "start_time": "2021-11-03T10:39:00.122489",
     "status": "completed"
    },
    "tags": []
   },
   "outputs": [
    {
     "name": "stderr",
     "output_type": "stream",
     "text": [
      "100%|██████████████████████████████████████████████████████████████████████████████████████████████████| 210/210 [00:00<00:00, 448.12it/s]"
     ]
    },
    {
     "name": "stdout",
     "output_type": "stream",
     "text": [
      "predict_len:210\n"
     ]
    },
    {
     "name": "stderr",
     "output_type": "stream",
     "text": [
      "\n"
     ]
    }
   ],
   "source": [
    "model.eval()\n",
    "\n",
    "predicts = []\n",
    "\n",
    "with torch.no_grad():\n",
    "    for data in tqdm(x_test):\n",
    "        data = torch.FloatTensor(data).to(device).unsqueeze(1)\n",
    "\n",
    "        _ , output_softmax = model(data)\n",
    "        predictions = torch.argmax(output_softmax,dim=1).cpu().numpy()\n",
    "        predicts.append(predictions)\n",
    "\n",
    "print(f'predict_len:{len(predicts)}')"
   ]
  },
  {
   "cell_type": "code",
   "execution_count": 33,
   "metadata": {
    "papermill": {
     "duration": 0.469016,
     "end_time": "2021-11-03T10:39:02.261996",
     "exception": false,
     "start_time": "2021-11-03T10:39:01.79298",
     "status": "completed"
    },
    "tags": []
   },
   "outputs": [
    {
     "name": "stderr",
     "output_type": "stream",
     "text": [
      "C:\\Users\\Kimjunyoung\\anaconda3\\envs\\JYK\\Lib\\site-packages\\sklearn\\preprocessing\\_label.py:153: DataConversionWarning: A column-vector y was passed when a 1d array was expected. Please change the shape of y to (n_samples, ), for example using ravel().\n",
      "  y = column_or_1d(y, warn=True)\n"
     ]
    },
    {
     "data": {
      "text/plain": [
       "array(['disgust', 'disgust', 'surprised', 'angry', 'sad', 'surprised',\n",
       "       'angry', 'fearful', 'disgust', 'surprised'], dtype='<U9')"
      ]
     },
     "execution_count": 33,
     "metadata": {},
     "output_type": "execute_result"
    }
   ],
   "source": [
    "### Result\n",
    "inv_predicts = le.inverse_transform(predicts)\n",
    "inv_predicts[:10]"
   ]
  },
  {
   "cell_type": "code",
   "execution_count": 34,
   "metadata": {},
   "outputs": [
    {
     "name": "stdout",
     "output_type": "stream",
     "text": [
      "Test Accuracy:  51.90476190476191\n"
     ]
    }
   ],
   "source": [
    "from sklearn.metrics import accuracy_score\n",
    "\n",
    "test_answer_df = pd.read_csv('./audio_dataset/data/test_answer.csv')\n",
    "accuracy = accuracy_score(test_answer_df['emotion'], inv_predicts)\n",
    "print(\"Test Accuracy: \", accuracy*100)"
   ]
  },
  {
   "cell_type": "markdown",
   "metadata": {},
   "source": [
    "### Save"
   ]
  },
  {
   "cell_type": "code",
   "execution_count": 35,
   "metadata": {
    "papermill": {
     "duration": 0.442578,
     "end_time": "2021-11-03T10:39:03.132996",
     "exception": false,
     "start_time": "2021-11-03T10:39:02.690418",
     "status": "completed"
    },
    "tags": []
   },
   "outputs": [],
   "source": [
    "ID = np.array([i for i in range(len(inv_predicts))]).reshape(-1,1)\n",
    "\n",
    "results = np.hstack([ID, np.array(inv_predicts).reshape(-1,1)])\n",
    "\n",
    "results =pd.DataFrame(results, columns=['ID','emotion'])\n",
    "results.to_csv(\"baseline.csv\", index=False)"
   ]
  },
  {
   "cell_type": "code",
   "execution_count": null,
   "metadata": {},
   "outputs": [],
   "source": []
  }
 ],
 "metadata": {
  "kernelspec": {
   "display_name": "Python 3 (ipykernel)",
   "language": "python",
   "name": "python3"
  },
  "language_info": {
   "codemirror_mode": {
    "name": "ipython",
    "version": 3
   },
   "file_extension": ".py",
   "mimetype": "text/x-python",
   "name": "python",
   "nbconvert_exporter": "python",
   "pygments_lexer": "ipython3",
   "version": "3.11.4"
  }
 },
 "nbformat": 4,
 "nbformat_minor": 4
}
